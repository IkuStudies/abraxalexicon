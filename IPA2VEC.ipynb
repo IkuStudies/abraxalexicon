{
  "nbformat": 4,
  "nbformat_minor": 0,
  "metadata": {
    "colab": {
      "provenance": [],
      "mount_file_id": "1YqxZfD1NAhcDZGM8VS57mlr5R6aUxGgp",
      "authorship_tag": "ABX9TyNhYRz5SJt7+bgGKUtetd1/",
      "include_colab_link": true
    },
    "kernelspec": {
      "name": "python3",
      "display_name": "Python 3"
    },
    "language_info": {
      "name": "python"
    }
  },
  "cells": [
    {
      "cell_type": "markdown",
      "metadata": {
        "id": "view-in-github",
        "colab_type": "text"
      },
      "source": [
        "<a href=\"https://colab.research.google.com/github/IkuStudies/abraxalexicon/blob/main/IPA2VEC.ipynb\" target=\"_parent\"><img src=\"https://colab.research.google.com/assets/colab-badge.svg\" alt=\"Open In Colab\"/></a>"
      ]
    },
    {
      "cell_type": "code",
      "source": [
        "!pip install csv\n",
        "!pip install numpy\n",
        "!pip install tqdm"
      ],
      "metadata": {
        "colab": {
          "base_uri": "https://localhost:8080/"
        },
        "id": "iplBf5Fh3BSI",
        "outputId": "a6a0f88b-f58c-40fc-d3bc-4ad052b5c3f2"
      },
      "execution_count": 1,
      "outputs": [
        {
          "output_type": "stream",
          "name": "stdout",
          "text": [
            "Looking in indexes: https://pypi.org/simple, https://us-python.pkg.dev/colab-wheels/public/simple/\n",
            "\u001b[31mERROR: Could not find a version that satisfies the requirement csv (from versions: none)\u001b[0m\u001b[31m\n",
            "\u001b[0m\u001b[31mERROR: No matching distribution found for csv\u001b[0m\u001b[31m\n",
            "\u001b[0mLooking in indexes: https://pypi.org/simple, https://us-python.pkg.dev/colab-wheels/public/simple/\n",
            "Requirement already satisfied: numpy in /usr/local/lib/python3.10/dist-packages (1.22.4)\n",
            "Looking in indexes: https://pypi.org/simple, https://us-python.pkg.dev/colab-wheels/public/simple/\n",
            "Requirement already satisfied: tqdm in /usr/local/lib/python3.10/dist-packages (4.65.0)\n"
          ]
        }
      ]
    },
    {
      "cell_type": "code",
      "execution_count": 37,
      "metadata": {
        "colab": {
          "base_uri": "https://localhost:8080/",
          "height": 237
        },
        "id": "IJR6Ngja288L",
        "outputId": "8186724e-b44e-48c6-d58c-4ba5adae171d"
      },
      "outputs": [
        {
          "output_type": "error",
          "ename": "ValueError",
          "evalue": "ignored",
          "traceback": [
            "\u001b[0;31m---------------------------------------------------------------------------\u001b[0m",
            "\u001b[0;31mValueError\u001b[0m                                Traceback (most recent call last)",
            "\u001b[0;32m<ipython-input-37-4b77fa495dcf>\u001b[0m in \u001b[0;36m<cell line: 34>\u001b[0;34m()\u001b[0m\n\u001b[1;32m     37\u001b[0m \u001b[0;34m\u001b[0m\u001b[0m\n\u001b[1;32m     38\u001b[0m     \u001b[0;32mfor\u001b[0m \u001b[0mrow\u001b[0m \u001b[0;32min\u001b[0m \u001b[0mreader\u001b[0m\u001b[0;34m:\u001b[0m\u001b[0;34m\u001b[0m\u001b[0;34m\u001b[0m\u001b[0m\n\u001b[0;32m---> 39\u001b[0;31m         \u001b[0mword\u001b[0m\u001b[0;34m,\u001b[0m \u001b[0mphoneme\u001b[0m\u001b[0;34m,\u001b[0m \u001b[0;34m*\u001b[0m\u001b[0m_\u001b[0m \u001b[0;34m=\u001b[0m \u001b[0mrow\u001b[0m  \u001b[0;31m# Ignore additional columns\u001b[0m\u001b[0;34m\u001b[0m\u001b[0;34m\u001b[0m\u001b[0m\n\u001b[0m\u001b[1;32m     40\u001b[0m         \u001b[0mtranscription\u001b[0m \u001b[0;34m=\u001b[0m \u001b[0mtranscribe_ipa\u001b[0m\u001b[0;34m(\u001b[0m\u001b[0mphoneme\u001b[0m\u001b[0;34m)\u001b[0m\u001b[0;34m\u001b[0m\u001b[0;34m\u001b[0m\u001b[0m\n\u001b[1;32m     41\u001b[0m \u001b[0;34m\u001b[0m\u001b[0m\n",
            "\u001b[0;31mValueError\u001b[0m: not enough values to unpack (expected at least 2, got 1)"
          ]
        }
      ],
      "source": [
        "import csv\n",
        "import numpy as np\n",
        "\n",
        "\n",
        "ipa_mapping = {\n",
        "    'a': 1, 'ɑ': 1, 'ɐ': 1, 'æ': 2, 'ɒ': 2, 'ɓ': 3, 't͡ʃ': 4, 'ɕ': 4, 'ɖ': 5, 'ð': 5, 'ɗ': 5, 'ʣ': 6, 'ʤ': 6, 'ɛ': 7, 'ə': 7, 'ɘ': 7, 'ɚ': 7,\n",
        "    'ɛ̃': 8, 'ɛ̃ː': 8, 'ɛ̃ːʷ': 8, 'ɛ̃ːʲ': 8, 'ɛ̃ːʷʲ': 8, 'ɛ̃ʷ': 8, 'ɛ̃ʲ': 8, 'ɛ̃ʷʲ': 8, 'ɛ̃ːʷʲʰ': 8, 'ɛ̃ʷʰ': 8, 'ɛ̃ʷʲʰ': 8, 'ɛ̃ʲʰ': 8,\n",
        "    'ɛ̃ːʰ': 8, 'ɛ̃ʰ': 8, 'ɛ̃ʷʰ': 8, 'ɛ̃ʷʲʰ': 8, 'ɛː': 9, 'ɛːʷ': 9, 'ɛːʲ': 9, 'ɛːʷʲ': 9, 'ɛʷ': 9, 'ɛʲ': 9, 'ɛʷʲ': 9, 'ɛːʷʲʰ': 9,\n",
        "    'ɛʷʰ': 9, 'ɛʷʲʰ': 9, 'ɛʲʰ': 9, 'əː': 10, 'əːʷ': 10, 'əːʲ': 10, 'əːʷʲ': 10, 'əʷ': 10, 'əʲ': 10, 'əʷʲ': 10, 'əːʷʲʰ': 10, 'əʷʰ': 10,\n",
        "    'əʷʲʰ': 10, 'əʲʰ': 10, 'e': 11, 'ɘ̃': 11, 'ɘ̃ː': 11, 'ɘ̃ːʷ': 11, 'ɘ̃ːʲ': 11, 'ɘ̃ːʷʲ': 11, 'ɘ̃ʷ': 11, 'ɘ̃ʲ': 11, 'ɘ̃ʷʲ': 11, 'ɘ̃ːʷʲʰ': 11,\n",
        "    'ɘ̃ʷʰ': 11, 'ɘ̃ʷʲʰ': 11, 'ɘ̃ʲʰ': 11, 'ɘ̃ʰ': 11, 'ɘ̃ʰ': 11, 'ɘ̃ʷʰ': 11, 'ɘ̃ʷʲʰ': 11, 'ɛ̃': 12, 'ɛ̃ː': 12, 'ɛ̃ːʷ': 12, 'ɛ̃ːʲ': 12,\n",
        "    'ɛ̃ːʷʲ': 12, 'ɛ̃ʷ': 12, 'ɛ̃ʲ': 12, 'ɛ̃ʷʲ': 12, 'ɛ̃ːʷʲʰ': 12, 'ɛ̃ʷʰ': 12, 'ɛ̃ʷʲʰ': 12, 'ɛ̃ʲʰ': 12, 'ɛ̃ːʰ': 12, 'ɛ̃ʰ': 12, 'ɛ̃ʷʰ': 12,\n",
        "    'ɛ̃ʷʲʰ': 12, 'ə̃': 13, 'ə̃ː': 13, 'ə̃ːʷ': 13, 'ə̃ːʲ': 13, 'ə̃ːʷʲ': 13, 'ʷʲ': 13, 'ə̃ʷ': 13, 'ə̃ʲ': 13, 'ə̃ʷʲ': 13, 'ə̃ːʷʲʰ': 13,\n",
        "    'ə̃ʷʰ': 13, 'ə̃ʷʲʰ': 13, 'ə̃ʲʰ': 13, 'ə̃ːʰ': 13, 'ə̃ʰ': 13, 'ə̃ʷʰ': 13, 'ə̃ʷʲʰ': 13, 'ɪ': 14, 'i': 14, 'ʝ': 15, 'k': 16, 'l': 17,\n",
        "    'ɫ': 17, 'ɬ': 17, 'ɮ': 17, 'ʟ': 17, 'ɱ': 18, 'ŋ': 19, 'ɲ': 20, 'ɳ': 21, 'ɴ': 22, 'ø': 23, 'œ': 23, 'ɸ': 24, 'p': 25, 'ɹ': 26, 'ɾ': 27,\n",
        "    'r': 27, 'ɻ': 27, 'ʀ': 27, 's': 28, 'ʂ': 29, 'ʃ': 29, 'ʈ': 30, 'θ': 31, 't': 32, 'ʊ': 33, 'u': 33, 'ʋ': 34, 'ⱱ': 35, 'w': 36, 'x': 37,\n",
        "    'ɣ': 37, 'z': 38, 'ʒ': 39, 'ʐ': 40, 'ʑ': 40, 'ʔ': 41\n",
        "}\n",
        "\n",
        "\n",
        "# Function to transcribe IPA string to numerical values using ipa_mapping\n",
        "def transcribe_ipa(ipa_string):\n",
        "    ipa_transcription = []\n",
        "    for char in ipa_string:\n",
        "        if char in ipa_mapping:\n",
        "            ipa_transcription.append(ipa_mapping[char])\n",
        "    return np.array(ipa_transcription)\n",
        "\n",
        "input_file = '/content/drive/MyDrive/formatted/formatted_english.csv'\n",
        "output_file = 'english_w_IPA2VEC.csv'\n",
        "max_length = 18  # Maximum length for numerical representations\n",
        "\n",
        "# Open input and output files\n",
        "with open(input_file, 'r') as file_in, open(output_file, 'w', newline='') as file_out:\n",
        "    reader = csv.reader(file_in)\n",
        "    writer = csv.writer(file_out)\n",
        "\n",
        "    for row in reader:\n",
        "        word, phoneme, *_ = row  # Ignore additional columns\n",
        "        transcription = transcribe_ipa(phoneme)\n",
        "\n",
        "        # Truncate the transcription if the length exceeds the maximum\n",
        "        if len(transcription) > max_length:\n",
        "            transcription = transcription[:max_length]\n",
        "\n",
        "        # Pad the transcription values with zeros to match the maximum length\n",
        "        padded_transcription = np.pad(transcription, (0, max_length - len(transcription)))\n",
        "\n",
        "        # Convert the padded transcription to string format enclosed in brackets\n",
        "        padded_transcription_str = '[' + ' '.join(map(str, padded_transcription)) + ']'\n",
        "\n",
        "        output_row = [word, phoneme, padded_transcription_str]\n",
        "        writer.writerow(output_row)\n"
      ]
    },
    {
      "cell_type": "code",
      "source": [
        "import csv\n",
        "import numpy as np\n",
        "\n",
        "\n",
        "ipa_mapping = {\n",
        "    'a': 1, 'ɑ': 1, 'ɐ': 1, 'æ': 2, 'ɒ': 2, 'ɓ': 3, 't͡ʃ': 4, 'ɕ': 4, 'ɖ': 5, 'ð': 5, 'ɗ': 5, 'ʣ': 6, 'ʤ': 6, 'ɛ': 7, 'ə': 7, 'ɘ': 7, 'ɚ': 7,\n",
        "    'ɛ̃': 8, 'ɛ̃ː': 8, 'ɛ̃ːʷ': 8, 'ɛ̃ːʲ': 8, 'ɛ̃ːʷʲ': 8, 'ɛ̃ʷ': 8, 'ɛ̃ʲ': 8, 'ɛ̃ʷʲ': 8, 'ɛ̃ːʷʲʰ': 8, 'ɛ̃ʷʰ': 8, 'ɛ̃ʷʲʰ': 8, 'ɛ̃ʲʰ': 8,\n",
        "    'ɛ̃ːʰ': 8, 'ɛ̃ʰ': 8, 'ɛ̃ʷʰ': 8, 'ɛ̃ʷʲʰ': 8, 'ɛː': 9, 'ɛːʷ': 9, 'ɛːʲ': 9, 'ɛːʷʲ': 9, 'ɛʷ': 9, 'ɛʲ': 9, 'ɛʷʲ': 9, 'ɛːʷʲʰ': 9,\n",
        "    'ɛʷʰ': 9, 'ɛʷʲʰ': 9, 'ɛʲʰ': 9, 'əː': 10, 'əːʷ': 10, 'əːʲ': 10, 'əːʷʲ': 10, 'əʷ': 10, 'əʲ': 10, 'əʷʲ': 10, 'əːʷʲʰ': 10, 'əʷʰ': 10,\n",
        "    'əʷʲʰ': 10, 'əʲʰ': 10, 'e': 11, 'ɘ̃': 11, 'ɘ̃ː': 11, 'ɘ̃ːʷ': 11, 'ɘ̃ːʲ': 11, 'ɘ̃ːʷʲ': 11, 'ɘ̃ʷ': 11, 'ɘ̃ʲ': 11, 'ɘ̃ʷʲ': 11, 'ɘ̃ːʷʲʰ': 11,\n",
        "    'ɘ̃ʷʰ': 11, 'ɘ̃ʷʲʰ': 11, 'ɘ̃ʲʰ': 11, 'ɘ̃ʰ': 11, 'ɘ̃ʰ': 11, 'ɘ̃ʷʰ': 11, 'ɘ̃ʷʲʰ': 11, 'ɛ̃': 12, 'ɛ̃ː': 12, 'ɛ̃ːʷ': 12, 'ɛ̃ːʲ': 12,\n",
        "    'ɛ̃ːʷʲ': 12, 'ɛ̃ʷ': 12, 'ɛ̃ʲ': 12, 'ɛ̃ʷʲ': 12, 'ɛ̃ːʷʲʰ': 12, 'ɛ̃ʷʰ': 12, 'ɛ̃ʷʲʰ': 12, 'ɛ̃ʲʰ': 12, 'ɛ̃ːʰ': 12, 'ɛ̃ʰ': 12, 'ɛ̃ʷʰ': 12,\n",
        "    'ɛ̃ʷʲʰ': 12, 'ə̃': 13, 'ə̃ː': 13, 'ə̃ːʷ': 13, 'ə̃ːʲ': 13, 'ə̃ːʷʲ': 13, 'ʷʲ': 13, 'ə̃ʷ': 13, 'ə̃ʲ': 13, 'ə̃ʷʲ': 13, 'ə̃ːʷʲʰ': 13,\n",
        "    'ə̃ʷʰ': 13, 'ə̃ʷʲʰ': 13, 'ə̃ʲʰ': 13, 'ə̃ːʰ': 13, 'ə̃ʰ': 13, 'ə̃ʷʰ': 13, 'ə̃ʷʲʰ': 13, 'ɪ': 14, 'i': 14, 'ʝ': 15, 'k': 16, 'l': 17,\n",
        "    'ɫ': 17, 'ɬ': 17, 'ɮ': 17, 'ʟ': 17, 'ɱ': 18, 'ŋ': 19, 'ɲ': 20, 'ɳ': 21, 'ɴ': 22, 'ø': 23, 'œ': 23, 'ɸ': 24, 'p': 25, 'ɹ': 26, 'ɾ': 27,\n",
        "    'r': 27, 'ɻ': 27, 'ʀ': 27, 's': 28, 'ʂ': 29, 'ʃ': 29, 'ʈ': 30, 'θ': 31, 't': 32, 'ʊ': 33, 'u': 33, 'ʋ': 34, 'ⱱ': 35, 'w': 36, 'x': 37,\n",
        "    'ɣ': 37, 'z': 38, 'ʒ': 39, 'ʐ': 40, 'ʑ': 40, 'ʔ': 41\n",
        "}\n",
        "import csv\n",
        "\n",
        "# Function to transcribe IPA string to numerical values using ipa_mapping\n",
        "def transcribe_ipa(ipa_string):\n",
        "    ipa_transcription = []\n",
        "    for char in ipa_string:\n",
        "        if char in ipa_mapping:\n",
        "            ipa_transcription.append(ipa_mapping[char])\n",
        "    return np.array(ipa_transcription)\n",
        "\n",
        "input_file = '/content/drive/MyDrive/greek.csv'\n",
        "output_file = 'greek_w_IPA2VEC.csv'\n",
        "max_length = 18  # Maximum length for numerical representations\n",
        "\n",
        "# Open input and output files\n",
        "with open(input_file, 'r') as file_in, open(output_file, 'w', newline='') as file_out:\n",
        "    reader = csv.reader(file_in)\n",
        "    writer = csv.writer(file_out)\n",
        "\n",
        "    for row in reader:\n",
        "        # Remove quotes from the entire row\n",
        "        cleaned_row = [col.strip('\"') for col in row]\n",
        "\n",
        "        if len(cleaned_row) == 3:  # Check if the row has exactly three columns\n",
        "            word, phoneme, definition = cleaned_row\n",
        "\n",
        "            transcription = transcribe_ipa(phoneme)\n",
        "\n",
        "            # Truncate the transcription if the length exceeds the maximum\n",
        "            if len(transcription) > max_length:\n",
        "                transcription = transcription[:max_length]\n",
        "\n",
        "            # Pad the transcription values with zeros to match the maximum length\n",
        "            padded_transcription = np.pad(transcription, (0, max_length - len(transcription)))\n",
        "\n",
        "            # Convert the padded transcription to string format enclosed in brackets\n",
        "            padded_transcription_str = '[' + ' '.join(map(str, padded_transcription)) + ']'\n",
        "\n",
        "            # Write the row to the output file with the modified columns\n",
        "            writer.writerow([word, phoneme, padded_transcription_str])\n"
      ],
      "metadata": {
        "id": "VXUZOsZqJ9Ek"
      },
      "execution_count": 66,
      "outputs": []
    },
    {
      "cell_type": "code",
      "source": [
        "import csv\n",
        "\n",
        "def remove_quotes(input_file, output_file):\n",
        "    with open(input_file, 'r') as file_in, open(output_file, 'w', newline='') as file_out:\n",
        "        reader = csv.reader(file_in)\n",
        "        writer = csv.writer(file_out)\n",
        "\n",
        "        for row in reader:\n",
        "            cleaned_row = [col.strip('\"') for col in row]\n",
        "            output_row = ','.join(cleaned_row)  # Join the cleaned_row using comma as the delimiter\n",
        "            file_out.write(output_row + '\\n')  # Write the row to the output file\n",
        "\n",
        "# Example usage\n",
        "input_file = '/content/drive/MyDrive/formatted/formatted_greek.csv'\n",
        "output_file = 'greek_output.csv'\n",
        "\n",
        "remove_quotes(input_file, output_file)\n"
      ],
      "metadata": {
        "id": "j8RnZPKnv2XF"
      },
      "execution_count": 59,
      "outputs": []
    },
    {
      "cell_type": "code",
      "source": [
        "def insert_header_to_csv(csv_file):\n",
        "    header = \"word,pronunciation,embedding\"\n",
        "\n",
        "    # Read the contents of the CSV file\n",
        "    with open(csv_file, 'r') as file:\n",
        "        lines = file.readlines()\n",
        "\n",
        "    # Insert the header at the beginning of the lines\n",
        "    lines.insert(0, header + '\\n')\n",
        "\n",
        "    # Write the updated contents back to the CSV file\n",
        "    with open(csv_file, 'w') as file:\n",
        "        file.writelines(lines)\n",
        "\n",
        "# Example usage\n",
        "csv_file_path = '/content/german_w_IPA2VEC.csv'\n",
        "\n",
        "# Insert the header into the CSV file\n",
        "insert_header_to_csv(csv_file_path)\n"
      ],
      "metadata": {
        "id": "7XjQkqL09KlF"
      },
      "execution_count": 70,
      "outputs": []
    },
    {
      "cell_type": "code",
      "source": [
        "import csv\n",
        "import json\n",
        "\n",
        "def convert_csv_to_json(csv_file, json_file):\n",
        "    with open(csv_file, 'r') as file:\n",
        "        reader = csv.DictReader(file)\n",
        "        data = list(reader)\n",
        "    \n",
        "    with open(json_file, 'w') as file:\n",
        "        json.dump(data, file, indent=4)\n",
        "\n",
        "# Example usage\n",
        "csv_file_path = '/content/drive/MyDrive/boyah/turkish_w_IPA2VEC.csv'\n",
        "json_file_path = 'turkish.json'\n",
        "\n",
        "# Convert the CSV file to JSON\n",
        "convert_csv_to_json(csv_file_path, json_file_path)\n"
      ],
      "metadata": {
        "id": "gtf9LxHNCUz5"
      },
      "execution_count": 81,
      "outputs": []
    }
  ]
}